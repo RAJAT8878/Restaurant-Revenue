{
 "cells": [
  {
   "cell_type": "code",
   "execution_count": 2,
   "metadata": {
    "collapsed": false
   },
   "outputs": [],
   "source": [
    "import numpy as np\n",
    "import matplotlib.pyplot as plt\n",
    "import pandas as pd\n",
    "from sklearn import *\n",
    "from sklearn import svm\n",
    "from sklearn.ensemble import RandomForestRegressor\n",
    "import random"
   ]
  },
  {
   "cell_type": "code",
   "execution_count": 3,
   "metadata": {
    "collapsed": false
   },
   "outputs": [],
   "source": [
    "train=pd.read_csv(\"C:/Users/Rajat/Desktop/CV train.csv\")\n",
    "test= pd.read_csv(\"C:/Users/Rajat/Desktop/Test.csv\")"
   ]
  },
  {
   "cell_type": "code",
   "execution_count": 7,
   "metadata": {
    "collapsed": false
   },
   "outputs": [
    {
     "data": {
      "text/html": [
       "<div>\n",
       "<table border=\"1\" class=\"dataframe\">\n",
       "  <thead>\n",
       "    <tr style=\"text-align: right;\">\n",
       "      <th></th>\n",
       "      <th>Id</th>\n",
       "      <th>Pred_ER</th>\n",
       "      <th>Pred_RF</th>\n",
       "      <th>Pred_MR</th>\n",
       "      <th>Pred_GB</th>\n",
       "      <th>revenue</th>\n",
       "    </tr>\n",
       "  </thead>\n",
       "  <tbody>\n",
       "    <tr>\n",
       "      <th>0</th>\n",
       "      <td>31</td>\n",
       "      <td>3.893560</td>\n",
       "      <td>3.860441</td>\n",
       "      <td>3.831633</td>\n",
       "      <td>3.873243</td>\n",
       "      <td>3.812815</td>\n",
       "    </tr>\n",
       "    <tr>\n",
       "      <th>1</th>\n",
       "      <td>32</td>\n",
       "      <td>3.925022</td>\n",
       "      <td>3.961385</td>\n",
       "      <td>3.932480</td>\n",
       "      <td>3.951827</td>\n",
       "      <td>3.872703</td>\n",
       "    </tr>\n",
       "    <tr>\n",
       "      <th>2</th>\n",
       "      <td>33</td>\n",
       "      <td>3.819375</td>\n",
       "      <td>3.816440</td>\n",
       "      <td>3.891981</td>\n",
       "      <td>3.748812</td>\n",
       "      <td>3.831306</td>\n",
       "    </tr>\n",
       "    <tr>\n",
       "      <th>3</th>\n",
       "      <td>34</td>\n",
       "      <td>3.917608</td>\n",
       "      <td>3.931715</td>\n",
       "      <td>3.909151</td>\n",
       "      <td>3.911612</td>\n",
       "      <td>3.902142</td>\n",
       "    </tr>\n",
       "    <tr>\n",
       "      <th>4</th>\n",
       "      <td>35</td>\n",
       "      <td>3.915797</td>\n",
       "      <td>3.931890</td>\n",
       "      <td>3.964325</td>\n",
       "      <td>3.925658</td>\n",
       "      <td>3.895829</td>\n",
       "    </tr>\n",
       "  </tbody>\n",
       "</table>\n",
       "</div>"
      ],
      "text/plain": [
       "   Id   Pred_ER   Pred_RF   Pred_MR   Pred_GB   revenue\n",
       "0  31  3.893560  3.860441  3.831633  3.873243  3.812815\n",
       "1  32  3.925022  3.961385  3.932480  3.951827  3.872703\n",
       "2  33  3.819375  3.816440  3.891981  3.748812  3.831306\n",
       "3  34  3.917608  3.931715  3.909151  3.911612  3.902142\n",
       "4  35  3.915797  3.931890  3.964325  3.925658  3.895829"
      ]
     },
     "execution_count": 7,
     "metadata": {},
     "output_type": "execute_result"
    }
   ],
   "source": [
    "ID_col=['Id']\n",
    "target_col=['revenue']\n",
    "Id_dummy=test.Id\n",
    "Id_new=train.Id\n",
    "features=list(set(list(train.columns))-set(ID_col)-set(target_col))\n",
    "train.head()"
   ]
  },
  {
   "cell_type": "code",
   "execution_count": 8,
   "metadata": {
    "collapsed": false
   },
   "outputs": [
    {
     "name": "stdout",
     "output_type": "stream",
     "text": [
      "0.0023024941246\n",
      "0.00255002255895\n",
      "0.00369888890576\n",
      "0.00326376534401\n",
      "0.00402394724447\n"
     ]
    }
   ],
   "source": [
    "cv=[]\n",
    "lst=[]\n",
    "kf=cross_validation.KFold(len(train),n_folds=5,random_state=0)\n",
    "for idx1,idx2 in kf:\n",
    "    x_train,x_cv=train[features].iloc[idx1],train[features].iloc[idx2]\n",
    "    y_train,y_cv=train.revenue.iloc[idx1],train.revenue.iloc[idx2]\n",
    "    \n",
    "    random.seed(100)\n",
    "    rf = RandomForestRegressor(n_estimators=500,max_depth=20,max_leaf_nodes=2)\n",
    "    rf.fit(x_train, y_train)\n",
    "    cv.extend(rf.predict(x_cv))\n",
    "    lst.append(rf.predict(test[features]))\n",
    "    print(metrics.mean_squared_error(rf.predict(x_cv),y_cv))"
   ]
  },
  {
   "cell_type": "code",
   "execution_count": 6,
   "metadata": {
    "collapsed": true
   },
   "outputs": [],
   "source": [
    "df1=pd.DataFrame({'Id': Id_dummy, 'revenue':np.average(lst,axis=0)})\n",
    "df2=pd.DataFrame({'Id': Id_new,'revenue': cv})"
   ]
  },
  {
   "cell_type": "code",
   "execution_count": 15,
   "metadata": {
    "collapsed": true
   },
   "outputs": [],
   "source": [
    "df1.to_csv(\"C:/Users/Rajat/Desktop/RandomForest.csv\",index= False)"
   ]
  },
  {
   "cell_type": "code",
   "execution_count": 7,
   "metadata": {
    "collapsed": false
   },
   "outputs": [
    {
     "name": "stdout",
     "output_type": "stream",
     "text": [
      "Feature ranking:\n",
      "1. feature 0 (0.582000)\n",
      "2. feature 3 (0.356000)\n",
      "3. feature 1 (0.062000)\n",
      "4. feature 2 (0.000000)\n"
     ]
    }
   ],
   "source": [
    "importances = rf.feature_importances_\n",
    "std = np.std([tree.feature_importances_ for tree in rf.estimators_],\n",
    "             axis=0)\n",
    "indices = np.argsort(importances)[::-1]\n",
    "print(\"Feature ranking:\")\n",
    "for f in range(x_train.shape[1]):\n",
    "    print(\"%d. feature %d (%f)\" % (f + 1, indices[f], importances[indices[f]]))\n",
    "\n",
    "# Plot the feature importances of the forest\n",
    "plt.figure()\n",
    "plt.title(\"Feature importances\")\n",
    "plt.bar(range(x_train.shape[1]), importances[indices],\n",
    "       color=\"r\", yerr=std[indices], align=\"center\")\n",
    "plt.xticks(range(x_train.shape[1]), indices)\n",
    "plt.xlim([-1, x_train.shape[1]])\n",
    "plt.show()"
   ]
  }
 ],
 "metadata": {
  "kernelspec": {
   "display_name": "Python 3",
   "language": "python",
   "name": "python3"
  },
  "language_info": {
   "codemirror_mode": {
    "name": "ipython",
    "version": 3
   },
   "file_extension": ".py",
   "mimetype": "text/x-python",
   "name": "python",
   "nbconvert_exporter": "python",
   "pygments_lexer": "ipython3",
   "version": "3.5.1"
  }
 },
 "nbformat": 4,
 "nbformat_minor": 0
}
